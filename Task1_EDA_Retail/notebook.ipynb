{
 "cells": [
  {
   "cell_type": "markdown",
   "id": "d717baa3",
   "metadata": {},
   "source": [
    "## so i just wanted to see how this works"
   ]
  },
  {
   "cell_type": "markdown",
   "id": "f1a33dec",
   "metadata": {},
   "source": []
  }
 ],
 "metadata": {
  "language_info": {
   "name": "python"
  }
 },
 "nbformat": 4,
 "nbformat_minor": 5
}
